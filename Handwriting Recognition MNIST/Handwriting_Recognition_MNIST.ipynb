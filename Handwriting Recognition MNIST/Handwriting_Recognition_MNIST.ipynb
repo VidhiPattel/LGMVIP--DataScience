{
  "nbformat": 4,
  "nbformat_minor": 0,
  "metadata": {
    "colab": {
      "provenance": []
    },
    "kernelspec": {
      "name": "python3",
      "display_name": "Python 3"
    },
    "language_info": {
      "name": "python"
    },
    "accelerator": "GPU",
    "gpuClass": "standard"
  },
  "cells": [
    {
      "cell_type": "code",
      "execution_count": null,
      "metadata": {
        "id": "5q9ddZ9EkGA9"
      },
      "outputs": [],
      "source": [
        "import tensorflow as tf\n",
        "import keras\n",
        "from keras.datasets import mnist\n",
        "from keras.models import Sequential\n",
        "from keras.layers import Dense, Dropout, Flatten, Conv2D, MaxPooling2D\n",
        "from keras import backend as K\n",
        "import numpy as np"
      ]
    },
    {
      "cell_type": "code",
      "source": [
        "# Set no of classes\n",
        "num_classes = 10"
      ],
      "metadata": {
        "id": "LLVg1Sj5kWsT"
      },
      "execution_count": null,
      "outputs": []
    },
    {
      "cell_type": "code",
      "source": [
        "#Input Image Dimensions\n",
        "img_rows, img_cols = 28, 28"
      ],
      "metadata": {
        "id": "2zqveq4HkxbU"
      },
      "execution_count": null,
      "outputs": []
    },
    {
      "cell_type": "code",
      "source": [
        "#Load MNIST dataset and split it into training and testing sets\n",
        "(X_train, y_train), (X_test, y_test) = mnist.load_data()"
      ],
      "metadata": {
        "colab": {
          "base_uri": "https://localhost:8080/"
        },
        "id": "OOLaKL4Ik2vc",
        "outputId": "d9156f58-9ceb-4f18-98fb-e8ce757d853e"
      },
      "execution_count": null,
      "outputs": [
        {
          "output_type": "stream",
          "name": "stdout",
          "text": [
            "Downloading data from https://storage.googleapis.com/tensorflow/tf-keras-datasets/mnist.npz\n",
            "11490434/11490434 [==============================] - 1s 0us/step\n"
          ]
        }
      ]
    },
    {
      "cell_type": "code",
      "source": [
        "# Reshape the data based on the format of the backend (either 'channels_first' or 'channels_last')\n",
        "if K.image_data_format() == 'channels_first':\n",
        "  X_train = X_train.reshape(X_train.shape[0], 1, img_rows, img_cols)\n",
        "  X_test = X_test.reshape(X_test.shape[0], 1, img_rows, img_cols)\n",
        "  input_shape = (1, img_rows, img_cols)\n",
        "\n",
        "else:\n",
        "  X_train = X_train.reshape(X_train.shape[0], img_rows, img_cols, 1)\n",
        "  X_test = X_test.reshape(X_test.shape[0], img_rows, img_cols, 1)\n",
        "  input_shape = (img_rows, img_cols, 1)"
      ],
      "metadata": {
        "id": "0WZdmM3VlDl2"
      },
      "execution_count": null,
      "outputs": []
    },
    {
      "cell_type": "code",
      "source": [
        "#Normalize the pixel values between 0 and 1\n",
        "X_train = X_train.astype('float32')\n",
        "X_test = X_test.astype('float32')\n",
        "X_train /= 255\n",
        "X_test /= 255"
      ],
      "metadata": {
        "id": "Sb3Q1fv3l76I"
      },
      "execution_count": null,
      "outputs": []
    },
    {
      "cell_type": "code",
      "source": [
        "#Converting class vectors to binary class metrices\n",
        "y_train = keras.utils.to_categorical(y_train, num_classes)\n",
        "y_test = keras.utils.to_categorical(y_test, num_classes)\n",
        "y_train"
      ],
      "metadata": {
        "colab": {
          "base_uri": "https://localhost:8080/"
        },
        "id": "g1SX2pgMmUnN",
        "outputId": "499262ed-f257-4225-83e3-974f888e3c68"
      },
      "execution_count": null,
      "outputs": [
        {
          "output_type": "execute_result",
          "data": {
            "text/plain": [
              "array([[0., 0., 0., ..., 0., 0., 0.],\n",
              "       [1., 0., 0., ..., 0., 0., 0.],\n",
              "       [0., 0., 0., ..., 0., 0., 0.],\n",
              "       ...,\n",
              "       [0., 0., 0., ..., 0., 0., 0.],\n",
              "       [0., 0., 0., ..., 0., 0., 0.],\n",
              "       [0., 0., 0., ..., 0., 1., 0.]], dtype=float32)"
            ]
          },
          "metadata": {},
          "execution_count": 9
        }
      ]
    },
    {
      "cell_type": "code",
      "source": [
        "#Defining the model\n",
        "model = Sequential()\n",
        "model.add(Conv2D(32, kernel_size=(3, 3), activation=\"relu\", input_shape=input_shape))\n",
        "model.add(Conv2D(128, kernel_size=(3, 3), activation=\"relu\"))\n",
        "model.add(MaxPooling2D(pool_size=(2, 2)))\n",
        "model.add(Dropout(0.25))\n",
        "model.add(Flatten())\n",
        "model.add(Dense(128, activation=\"relu\"))\n",
        "model.add(Dropout(0.5))\n",
        "model.add(Dense(num_classes, activation=\"softmax\"))\n",
        "model.summary()"
      ],
      "metadata": {
        "colab": {
          "base_uri": "https://localhost:8080/"
        },
        "id": "JwXlh1tymqyJ",
        "outputId": "770f41ba-996b-448d-c868-f3ba6de9f61a"
      },
      "execution_count": null,
      "outputs": [
        {
          "output_type": "stream",
          "name": "stdout",
          "text": [
            "Model: \"sequential_2\"\n",
            "_________________________________________________________________\n",
            " Layer (type)                Output Shape              Param #   \n",
            "=================================================================\n",
            " conv2d_4 (Conv2D)           (None, 26, 26, 32)        320       \n",
            "                                                                 \n",
            " conv2d_5 (Conv2D)           (None, 24, 24, 128)       36992     \n",
            "                                                                 \n",
            " max_pooling2d_2 (MaxPooling  (None, 12, 12, 128)      0         \n",
            " 2D)                                                             \n",
            "                                                                 \n",
            " dropout_4 (Dropout)         (None, 12, 12, 128)       0         \n",
            "                                                                 \n",
            " flatten_2 (Flatten)         (None, 18432)             0         \n",
            "                                                                 \n",
            " dense_3 (Dense)             (None, 128)               2359424   \n",
            "                                                                 \n",
            " dropout_5 (Dropout)         (None, 128)               0         \n",
            "                                                                 \n",
            " dense_4 (Dense)             (None, 10)                1290      \n",
            "                                                                 \n",
            "=================================================================\n",
            "Total params: 2,398,026\n",
            "Trainable params: 2,398,026\n",
            "Non-trainable params: 0\n",
            "_________________________________________________________________\n"
          ]
        }
      ]
    },
    {
      "cell_type": "code",
      "source": [
        "#Compiling the model\n",
        "model.compile(loss=keras.losses.categorical_crossentropy, optimizer=keras.optimizers.Adam(), metrics=['accuracy'])"
      ],
      "metadata": {
        "id": "VjCzaeHkneIn"
      },
      "execution_count": null,
      "outputs": []
    },
    {
      "cell_type": "code",
      "source": [
        "early_stopping_cb = tf.keras.callbacks.EarlyStopping(patience=10, monitor='loss', restore_best_weights=True)"
      ],
      "metadata": {
        "id": "kkgqoMMEn1x-"
      },
      "execution_count": null,
      "outputs": []
    },
    {
      "cell_type": "code",
      "source": [
        "model.fit(X_train, y_train, epochs=10, batch_size=128, callbacks=[early_stopping_cb])"
      ],
      "metadata": {
        "colab": {
          "base_uri": "https://localhost:8080/"
        },
        "id": "uXxbMlzOn02o",
        "outputId": "04e73e07-a85c-4265-a6bb-21bfde67edee"
      },
      "execution_count": null,
      "outputs": [
        {
          "output_type": "stream",
          "name": "stdout",
          "text": [
            "Epoch 1/10\n",
            "469/469 [==============================] - 6s 13ms/step - loss: 0.0446 - accuracy: 0.9861\n",
            "Epoch 2/10\n",
            "469/469 [==============================] - 6s 13ms/step - loss: 0.0379 - accuracy: 0.9883\n",
            "Epoch 3/10\n",
            "469/469 [==============================] - 6s 13ms/step - loss: 0.0318 - accuracy: 0.9900\n",
            "Epoch 4/10\n",
            "469/469 [==============================] - 6s 13ms/step - loss: 0.0301 - accuracy: 0.9906\n",
            "Epoch 5/10\n",
            "469/469 [==============================] - 6s 12ms/step - loss: 0.0250 - accuracy: 0.9917\n",
            "Epoch 6/10\n",
            "469/469 [==============================] - 6s 13ms/step - loss: 0.0216 - accuracy: 0.9930\n",
            "Epoch 7/10\n",
            "469/469 [==============================] - 6s 12ms/step - loss: 0.0210 - accuracy: 0.9932\n",
            "Epoch 8/10\n",
            "469/469 [==============================] - 6s 13ms/step - loss: 0.0196 - accuracy: 0.9933\n",
            "Epoch 9/10\n",
            "469/469 [==============================] - 6s 13ms/step - loss: 0.0177 - accuracy: 0.9940\n",
            "Epoch 10/10\n",
            "469/469 [==============================] - 6s 13ms/step - loss: 0.0162 - accuracy: 0.9949\n"
          ]
        },
        {
          "output_type": "execute_result",
          "data": {
            "text/plain": [
              "<keras.callbacks.History at 0x7f31bfa370a0>"
            ]
          },
          "metadata": {},
          "execution_count": 17
        }
      ]
    },
    {
      "cell_type": "code",
      "source": [
        "#Evaluating the model on the test dataset\n",
        "test_loss, test_acc = model.evaluate(X_test, y_test)\n",
        "print(\"Test Accuracy: \", test_acc)"
      ],
      "metadata": {
        "colab": {
          "base_uri": "https://localhost:8080/"
        },
        "id": "5ARVyU3AoveP",
        "outputId": "1870b24c-1db5-4f5c-bf28-2f148c85b6a2"
      },
      "execution_count": null,
      "outputs": [
        {
          "output_type": "stream",
          "name": "stdout",
          "text": [
            "313/313 [==============================] - 2s 4ms/step - loss: 0.0284 - accuracy: 0.9931\n",
            "Test Accuracy:  0.9930999875068665\n"
          ]
        }
      ]
    },
    {
      "cell_type": "code",
      "source": [
        "import cv2\n",
        "img = \"/sample.jpg\"\n",
        "img = cv2.imread(img, cv2.IMREAD_GRAYSCALE)"
      ],
      "metadata": {
        "id": "GY-P5SgIpawk"
      },
      "execution_count": null,
      "outputs": []
    },
    {
      "cell_type": "code",
      "source": [
        "from keras.preprocessing import *\n",
        "import keras.utils as image"
      ],
      "metadata": {
        "id": "G08nI9W3qcXd"
      },
      "execution_count": null,
      "outputs": []
    },
    {
      "cell_type": "code",
      "source": [
        "#Load custom image\n",
        "img = image.load_img('/sample.jpg', color_mode=\"grayscale\", target_size=(28, 28))\n",
        "img = image.img_to_array(img)\n",
        "img = np.expand_dims(img, axis=0)"
      ],
      "metadata": {
        "id": "khBTlQcGqe9c"
      },
      "execution_count": null,
      "outputs": []
    },
    {
      "cell_type": "code",
      "source": [
        "pred =  model.predict(img)\n",
        "print('Predicted Digit: ', pred[0])\n",
        "classes_x = np.argmax(pred, axis=1)\n",
        "\n",
        "#print(classes_x)\n",
        "print('Digit is: ', classes_x)"
      ],
      "metadata": {
        "colab": {
          "base_uri": "https://localhost:8080/"
        },
        "id": "O_kzaJ-Oq4HS",
        "outputId": "ed4c2d80-15ff-42de-c5af-617339a996a8"
      },
      "execution_count": null,
      "outputs": [
        {
          "output_type": "stream",
          "name": "stdout",
          "text": [
            "1/1 [==============================] - 0s 137ms/step\n",
            "Predicted Digit:  [0. 0. 0. 0. 0. 0. 0. 0. 1. 0.]\n",
            "Digit is:  [8]\n"
          ]
        }
      ]
    },
    {
      "cell_type": "code",
      "source": [],
      "metadata": {
        "id": "3ZLWu998ra-e"
      },
      "execution_count": null,
      "outputs": []
    }
  ]
}